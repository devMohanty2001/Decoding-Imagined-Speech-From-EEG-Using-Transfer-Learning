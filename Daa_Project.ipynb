{
  "nbformat": 4,
  "nbformat_minor": 0,
  "metadata": {
    "colab": {
      "provenance": []
    },
    "kernelspec": {
      "name": "python3",
      "display_name": "Python 3"
    },
    "language_info": {
      "name": "python"
    }
  },
  "cells": [
    {
      "cell_type": "code",
      "source": [
        "import tensorflow as tf\n",
        "from tensorflow.keras.models import Sequential\n",
        "from tensorflow.keras.layers import Input, Dense, Dropout\n",
        "from tensorflow.keras.applications import ResNet50\n",
        "\n",
        "# Create a Sequential model\n",
        "model = Sequential()\n",
        "\n",
        "# Add an input layer with the specified shape\n",
        "model.add(Input(shape=(64, 64, 3)))\n",
        "\n",
        "# Add the ResNet50 base model\n",
        "base_model = ResNet50(\n",
        "    include_top=False,\n",
        "    weights='imagenet',\n",
        "    input_shape=(64, 64, 3),\n",
        ")\n",
        "\n",
        "# Freeze the layers of the pre-trained ResNet50\n",
        "for layer in base_model.layers:\n",
        "    layer.trainable = False\n",
        "\n",
        "# Add the ResNet50 base model to the model\n",
        "model.add(base_model)\n",
        "\n",
        "# Add a Global Average Pooling layer\n",
        "model.add(tf.keras.layers.GlobalAveragePooling2D())\n",
        "\n",
        "# Add a Dense layer with 128 units and ReLU activation\n",
        "model.add(Dense(128, activation='relu'))\n",
        "model.add(Dropout(0.3))\n",
        "\n",
        "# Add another Dense layer with 64 units and ReLU activation\n",
        "model.add(Dense(64, activation='relu'))\n",
        "\n",
        "# Add a Dropout layer with a dropout rate of 0.3\n",
        "model.add(Dropout(0.3))\n",
        "\n",
        "# Add a final Dense layer for classification with softmax activation for 3 classes\n",
        "model.add(Dense(3, activation='softmax'))\n",
        "\n",
        "# Compile the model\n",
        "model.compile(optimizer='adam', loss='categorical_crossentropy', metrics=['accuracy'])\n",
        "\n",
        "# Print the model summary\n",
        "model.summary()\n"
      ],
      "metadata": {
        "colab": {
          "base_uri": "https://localhost:8080/"
        },
        "id": "GuXVOu6JkWuA",
        "outputId": "e0fdddba-7fec-4163-d780-2535ece1e9f4"
      },
      "execution_count": null,
      "outputs": [
        {
          "output_type": "stream",
          "name": "stdout",
          "text": [
            "Model: \"sequential_2\"\n",
            "_________________________________________________________________\n",
            " Layer (type)                Output Shape              Param #   \n",
            "=================================================================\n",
            " resnet50 (Functional)       (None, 2, 2, 2048)        23587712  \n",
            "                                                                 \n",
            " global_average_pooling2d_1  (None, 2048)              0         \n",
            "  (GlobalAveragePooling2D)                                       \n",
            "                                                                 \n",
            " dense_6 (Dense)             (None, 128)               262272    \n",
            "                                                                 \n",
            " dropout_2 (Dropout)         (None, 128)               0         \n",
            "                                                                 \n",
            " dense_7 (Dense)             (None, 64)                8256      \n",
            "                                                                 \n",
            " dropout_3 (Dropout)         (None, 64)                0         \n",
            "                                                                 \n",
            " dense_8 (Dense)             (None, 3)                 195       \n",
            "                                                                 \n",
            "=================================================================\n",
            "Total params: 23858435 (91.01 MB)\n",
            "Trainable params: 270723 (1.03 MB)\n",
            "Non-trainable params: 23587712 (89.98 MB)\n",
            "_________________________________________________________________\n"
          ]
        }
      ]
    },
    {
      "cell_type": "code",
      "source": [
        "import numpy as np\n",
        "\n",
        "# Define the number of samples\n",
        "num_samples = 300\n",
        "\n",
        "# Generate random input data with the shape (num_samples, 64, 64, 3)\n",
        "dummy_input_data = np.random.rand(num_samples, 64, 64, 3)\n",
        "\n",
        "# Generate random labels for the three classes\n",
        "dummy_labels = np.random.randint(3, size=num_samples)\n",
        "\n",
        "# Convert the labels to one-hot encoding\n",
        "dummy_labels = tf.keras.utils.to_categorical(dummy_labels, num_classes=3)\n",
        "\n",
        "# Now you have your dummy data and labels ready for training\n"
      ],
      "metadata": {
        "id": "ejqF4UkF-Ra_"
      },
      "execution_count": null,
      "outputs": []
    },
    {
      "cell_type": "code",
      "source": [
        "model.fit(dummy_input_data, dummy_labels, epochs = 10)"
      ],
      "metadata": {
        "colab": {
          "base_uri": "https://localhost:8080/"
        },
        "id": "9aYhbgAl_lLU",
        "outputId": "b3bf6648-c714-4d1c-ed20-563d1b5db789"
      },
      "execution_count": null,
      "outputs": [
        {
          "output_type": "stream",
          "name": "stdout",
          "text": [
            "Epoch 1/10\n",
            "10/10 [==============================] - 6s 267ms/step - loss: 1.2322 - accuracy: 0.3567\n",
            "Epoch 2/10\n",
            "10/10 [==============================] - 3s 322ms/step - loss: 1.1689 - accuracy: 0.3167\n",
            "Epoch 3/10\n",
            "10/10 [==============================] - 3s 262ms/step - loss: 1.1281 - accuracy: 0.3200\n",
            "Epoch 4/10\n",
            "10/10 [==============================] - 3s 263ms/step - loss: 1.1135 - accuracy: 0.3400\n",
            "Epoch 5/10\n",
            "10/10 [==============================] - 3s 262ms/step - loss: 1.1233 - accuracy: 0.3033\n",
            "Epoch 6/10\n",
            "10/10 [==============================] - 3s 320ms/step - loss: 1.1112 - accuracy: 0.3633\n",
            "Epoch 7/10\n",
            "10/10 [==============================] - 3s 263ms/step - loss: 1.1021 - accuracy: 0.3733\n",
            "Epoch 8/10\n",
            "10/10 [==============================] - 3s 263ms/step - loss: 1.0979 - accuracy: 0.3567\n",
            "Epoch 9/10\n",
            "10/10 [==============================] - 3s 261ms/step - loss: 1.1006 - accuracy: 0.3200\n",
            "Epoch 10/10\n",
            "10/10 [==============================] - 3s 284ms/step - loss: 1.1046 - accuracy: 0.3300\n"
          ]
        },
        {
          "output_type": "execute_result",
          "data": {
            "text/plain": [
              "<keras.src.callbacks.History at 0x7da4fdb8aa40>"
            ]
          },
          "metadata": {},
          "execution_count": 6
        }
      ]
    },
    {
      "cell_type": "code",
      "source": [],
      "metadata": {
        "id": "f9weHn0q_tsq"
      },
      "execution_count": null,
      "outputs": []
    }
  ]
}